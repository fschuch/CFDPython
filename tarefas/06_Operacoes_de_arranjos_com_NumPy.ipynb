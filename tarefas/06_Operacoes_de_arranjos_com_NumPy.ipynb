{
 "cells": [
  {
   "cell_type": "markdown",
   "metadata": {},
   "source": [
    "> Texto fornecido sob a Creative Commons Attribution license, CC-BY. Todo o código está disponível sob a FSF-approved BSD-3 license.<br>\n",
    "> (c) Original por Lorena A. Barba, Gilbert F. Forsyth em 2017, traduzido por Felipe N. Schuch em 2020.<br>\n",
    "> [@LorenaABarba](https://twitter.com/LorenaABarba) - [@fschuch](https://twitter.com/fschuch)"
   ]
  },
  {
   "cell_type": "markdown",
   "metadata": {},
   "source": [
    "12 passos para Navier-Stokes\n",
    "======\n",
    "***"
   ]
  },
  {
   "cell_type": "markdown",
   "metadata": {},
   "source": [
    "Essa tarefa é um complemento para as aulas do primeiro módulo interativo online [CFD com Python](https://github.com/fschuch/CFDPython-BR), por Prof. Lorena A. Barba, denominado **12 Passos para Navier-Stokes**. Esse notebook foi escrito pelo estudante de graduação Gilbert Forsyth."
   ]
  },
  {
   "cell_type": "markdown",
   "metadata": {},
   "source": [
    "Operações com arranjos em NumPy\n",
    "----------------\n",
    "\n",
    "Para aplicações computacionais mais intensivas, o uso das funções embutidas em NumPy podem fornecer um aumento na velocidade de execução de muitas vezes. Como um exemplo simples, considere a seguinte equação:\n",
    "\n",
    "$$\n",
    "u^{n+1}_i = u^n_i-u^n_{i-1}\n",
    "$$\n",
    "\n",
    "Agora, para um dado vetor $u^n = [0, 1, 2, 3, 4, 5]\\ \\ $, nós podemos calcular o valor de $u^{n+1}$ ao iterar sobre os valores de $u^{n+1}$ com um laço `for`."
   ]
  },
  {
   "cell_type": "code",
   "execution_count": 1,
   "metadata": {},
   "outputs": [],
   "source": [
    "import numpy"
   ]
  },
  {
   "cell_type": "code",
   "execution_count": 2,
   "metadata": {},
   "outputs": [
    {
     "name": "stdout",
     "output_type": "stream",
     "text": [
      "1\n",
      "1\n",
      "1\n",
      "1\n",
      "1\n"
     ]
    }
   ],
   "source": [
    "u = numpy.array((0, 1, 2, 3, 4, 5))\n",
    "\n",
    "for i in range(1, len(u)):\n",
    "    print(u[i] - u[i-1])"
   ]
  },
  {
   "cell_type": "markdown",
   "metadata": {},
   "source": [
    "Esse é o resultado esperado, e o tempo de execução foi praticamente instantâneo. Se efetuamos o mesmo procedimento como uma operação de arranjos, em vez de calcularmos $u^n_i-u^n_{i-1}$ separadamente por 5 vezes, podemos fatiar o arranjo $u$ e calcular cada operação com uma linha de comando:"
   ]
  },
  {
   "cell_type": "code",
   "execution_count": 3,
   "metadata": {},
   "outputs": [
    {
     "data": {
      "text/plain": [
       "array([1, 1, 1, 1, 1])"
      ]
     },
     "execution_count": 3,
     "metadata": {},
     "output_type": "execute_result"
    }
   ],
   "source": [
    "u[1:] - u[0:-1]"
   ]
  },
  {
   "cell_type": "markdown",
   "metadata": {},
   "source": [
    "O que esse comando diz é para subtrair o 0.º, 1.º, 2.º, 3.º, 4.º e 5.º elementos de $u$ do 1.º, 2.º, 3.º, 4.º, 5.º e 6.º elementos de $u$.\n",
    "\n",
    "### Aumento de Velocidade\n",
    "\n",
    "Para o arranjo de 6 elementos, o benefício da operação de arranjos é bastante pequena. Não haverá diferença significativa no tempo de execução porque existem apenas algumas poucas operações ocorrento. Mas se revisitarmos a equação de convecção linear 2D, podemos ver um ganho de velocidade substancial."
   ]
  },
  {
   "cell_type": "code",
   "execution_count": 4,
   "metadata": {},
   "outputs": [],
   "source": [
    "nx = 81\n",
    "ny = 81\n",
    "nt = 100\n",
    "c = 1\n",
    "dx = 2 / (nx - 1)\n",
    "dy = 2 / (ny - 1)\n",
    "sigma = .2\n",
    "dt = sigma * dx\n",
    "\n",
    "x = numpy.linspace(0, 2, nx)\n",
    "y = numpy.linspace(0, 2, ny)\n",
    "\n",
    "u = numpy.ones((nx, ny)) ##Cria um vetor ny x nx com 1\n",
    "un = numpy.ones((nx, ny)) \n",
    "\n",
    "###Assinala a condição Inicial\n",
    "\n",
    "u[int(.5 / dx):int(1 / dx + 1), int(.5 / dy): int(1 / dy + 1)] = 2"
   ]
  },
  {
   "cell_type": "markdown",
   "metadata": {},
   "source": [
    "Com nossa condição inicial definida, vamos primeiro executar a forma original de fois laços `for` aninhados, fazendo uso da função \"mágica\" do Notebook `%%timeit`, a qual vai nos ajudar a mensurar a performace do nosso código.\n",
    "\n",
    "**Nota:** A função mágica `%%timeit` vai executar o código diversas vezes e nos fornecer como resultado o tempo médio de execução. Se tivermos uma figura sendo produzida dentro da célula onde executamos `%%timeit`, ela será executada repetitivamente, o que pode causar uma leve confusão.\n",
    "\n",
    "O tempo de execução abaixo vai variar de máquina para máquina. Não espere que seus tempos correspondam e esses, mas você _deve_ verificar a mesma tendência geral de diminuição no tempo de execução conforme mudamos para operações de arranjos."
   ]
  },
  {
   "cell_type": "code",
   "execution_count": 5,
   "metadata": {},
   "outputs": [
    {
     "name": "stdout",
     "output_type": "stream",
     "text": [
      "2.42 s ± 24.8 ms per loop (mean ± std. dev. of 7 runs, 1 loop each)\n"
     ]
    }
   ],
   "source": [
    "%%timeit\n",
    "u = numpy.ones((nx, ny))\n",
    "u[int(.5 / dx):int(1 / dx + 1), int(.5 / dy): int(1 / dy + 1)] = 2\n",
    "\n",
    "for n in range(nt + 1): ##Laço sobre o número de passos de tempo\n",
    "    un = u.copy()\n",
    "    row, col = u.shape\n",
    "    for i in range(1, row):\n",
    "        for j in range(1, col):\n",
    "            u[i, j] = (un[i, j] - (c * dt / dx * \n",
    "                                  (un[i, j] - un[i - 1, j])) - \n",
    "                                  (c * dt / dy * \n",
    "                                  (un[i, j] - un[i, j - 1])))\n",
    "            u[0, :] = 1\n",
    "            u[-1, :] = 1\n",
    "            u[:, 0] = 1\n",
    "            u[:, -1] = 1"
   ]
  },
  {
   "cell_type": "markdown",
   "metadata": {},
   "source": [
    "Com o código \"bruto\" acima, observe a média de execução atingida. Tenha em mente que com esses três laços aninhados, que tudo declarado dentro do laço **j** está sendo executado mais de 650.000 vezes. Vamos comparar isso com o desempenho do mesmo código implementado com operações de arranjos:"
   ]
  },
  {
   "cell_type": "code",
   "execution_count": 6,
   "metadata": {},
   "outputs": [
    {
     "name": "stdout",
     "output_type": "stream",
     "text": [
      "6.2 ms ± 41.1 µs per loop (mean ± std. dev. of 7 runs, 100 loops each)\n"
     ]
    }
   ],
   "source": [
    "%%timeit\n",
    "u = numpy.ones((ny, nx))\n",
    "u[int(.5 / dx):int(1 / dx + 1), int(.5 / dy): int(1 / dy + 1)] = 2\n",
    "\n",
    "for n in range(nt + 1): ##Laço sobre o número de passos \n",
    "    un = u.copy()\n",
    "    u[1:, 1:] = (un[1:, 1:] - (c * dt / dx * (un[1:, 1:] - un[0:-1, 1])) -\n",
    "                              (c * dt / dy * (un[1:, 1:] - un[1, 0:-1])))\n",
    "    u[0, :] = 1\n",
    "    u[-1, :] = 1\n",
    "    u[:, 0] = 1\n",
    "    u[:, -1] = 1"
   ]
  },
  {
   "cell_type": "markdown",
   "metadata": {},
   "source": [
    "Como você pode ver, o tempo de execução caiu substancialmente. Pode não ter parecido muito tanto nesse exemplo, mas tenha em mente que o ganho de velocidade vai crescer exponencialmente com o tamanho e complexidade do problema que está sendo resolvido."
   ]
  },
  {
   "cell_type": "code",
   "execution_count": 7,
   "metadata": {},
   "outputs": [
    {
     "data": {
      "text/html": [
       "<link href='http://fonts.googleapis.com/css?family=Fenix' rel='stylesheet' type='text/css'>\n",
       "<link href='http://fonts.googleapis.com/css?family=Alegreya+Sans:100,300,400,500,700,800,900,100italic,300italic,400italic,500italic,700italic,800italic,900italic' rel='stylesheet' type='text/css'>\n",
       "<link href='http://fonts.googleapis.com/css?family=Source+Code+Pro:300,400' rel='stylesheet' type='text/css'>\n",
       "<style>\n",
       "    @font-face {\n",
       "        font-family: \"Computer Modern\";\n",
       "        src: url('http://mirrors.ctan.org/fonts/cm-unicode/fonts/otf/cmunss.otf');\n",
       "    }\n",
       "    div.cell{\n",
       "        width:800px;\n",
       "        margin-left:16% !important;\n",
       "        margin-right:auto;\n",
       "    }\n",
       "    h1 {\n",
       "        font-family: 'Alegreya Sans', sans-serif;\n",
       "    }\n",
       "    h2 {\n",
       "        font-family: 'Fenix', serif;\n",
       "    }\n",
       "    h3{\n",
       "\t\tfont-family: 'Fenix', serif;\n",
       "        margin-top:12px;\n",
       "        margin-bottom: 3px;\n",
       "       }\n",
       "\th4{\n",
       "\t\tfont-family: 'Fenix', serif;\n",
       "       }\n",
       "    h5 {\n",
       "        font-family: 'Alegreya Sans', sans-serif;\n",
       "    }\t   \n",
       "    div.text_cell_render{\n",
       "        font-family: 'Alegreya Sans',Computer Modern, \"Helvetica Neue\", Arial, Helvetica, Geneva, sans-serif;\n",
       "        line-height: 135%;\n",
       "        font-size: 120%;\n",
       "        width:600px;\n",
       "        margin-left:auto;\n",
       "        margin-right:auto;\n",
       "    }\n",
       "    .CodeMirror{\n",
       "            font-family: \"Source Code Pro\";\n",
       "\t\t\tfont-size: 90%;\n",
       "    }\n",
       "/*    .prompt{\n",
       "        display: None;\n",
       "    }*/\n",
       "    .text_cell_render h1 {\n",
       "        font-weight: 200;\n",
       "        font-size: 50pt;\n",
       "\t\tline-height: 100%;\n",
       "        color:#CD2305;\n",
       "        margin-bottom: 0.5em;\n",
       "        margin-top: 0.5em;\n",
       "        display: block;\n",
       "    }\t\n",
       "    .text_cell_render h5 {\n",
       "        font-weight: 300;\n",
       "        font-size: 16pt;\n",
       "        color: #CD2305;\n",
       "        font-style: italic;\n",
       "        margin-bottom: .5em;\n",
       "        margin-top: 0.5em;\n",
       "        display: block;\n",
       "    }\n",
       "    \n",
       "    .warning{\n",
       "        color: rgb( 240, 20, 20 )\n",
       "        }  \n",
       "</style>\n",
       "<script>\n",
       "    MathJax.Hub.Config({\n",
       "                        TeX: {\n",
       "                           extensions: [\"AMSmath.js\"]\n",
       "                           },\n",
       "                tex2jax: {\n",
       "                    inlineMath: [ ['$','$'], [\"\\\\(\",\"\\\\)\"] ],\n",
       "                    displayMath: [ ['$$','$$'], [\"\\\\[\",\"\\\\]\"] ]\n",
       "                },\n",
       "                displayAlign: 'center', // Change this to 'center' to center equations.\n",
       "                \"HTML-CSS\": {\n",
       "                    styles: {'.MathJax_Display': {\"margin\": 4}}\n",
       "                }\n",
       "        });\n",
       "</script>\n"
      ],
      "text/plain": [
       "<IPython.core.display.HTML object>"
      ]
     },
     "execution_count": 7,
     "metadata": {},
     "output_type": "execute_result"
    }
   ],
   "source": [
    "from IPython.core.display import HTML\n",
    "def css_styling():\n",
    "    styles = open(\"../styles/custom.css\", \"r\").read()\n",
    "    return HTML(styles)\n",
    "css_styling()"
   ]
  },
  {
   "cell_type": "markdown",
   "metadata": {},
   "source": [
    "> A célula acima executa o estilo para esse notebook. Nós modificamos o estilo encontrado no GitHub de [CamDavidsonPilon](https://github.com/CamDavidsonPilon), [@Cmrn_DP](https://twitter.com/cmrn_dp)."
   ]
  }
 ],
 "metadata": {
  "kernelspec": {
   "display_name": "Python 3",
   "language": "python",
   "name": "python3"
  },
  "language_info": {
   "codemirror_mode": {
    "name": "ipython",
    "version": 3
   },
   "file_extension": ".py",
   "mimetype": "text/x-python",
   "name": "python",
   "nbconvert_exporter": "python",
   "pygments_lexer": "ipython3",
   "version": "3.6.10"
  }
 },
 "nbformat": 4,
 "nbformat_minor": 4
}

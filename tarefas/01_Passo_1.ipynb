{
 "cells": [
  {
   "cell_type": "markdown",
   "metadata": {
    "colab_type": "text",
    "id": "PdqynpQ2yeea"
   },
   "source": [
    "> Texto fornecido sob a Creative Commons Attribution license, CC-BY. Todo o código está disponível sob a FSF-approved BSD-3 license.<br>\n",
    "> (c) Original por Lorena A. Barba, Gilbert F. Forsyth em 2017, traduzido por Felipe N. Schuch em 2020.<br>\n",
    "> [@LorenaABarba](https://twitter.com/LorenaABarba) - [@fschuch](https://twitter.com/fschuch)"
   ]
  },
  {
   "cell_type": "markdown",
   "metadata": {
    "colab_type": "text",
    "id": "H6t5pwaRwjlL"
   },
   "source": [
    "12 passos para Navier–Stokes\n",
    "======\n",
    "***"
   ]
  },
  {
   "cell_type": "markdown",
   "metadata": {
    "colab_type": "text",
    "id": "DnOoW2QQwjlM"
   },
   "source": [
    "Olá! Bem-vindo aos **12 passos para Navier-Stokes**. Esse é um módulo prático usado inicialmente como um curso interativo de Dinâmica dos Fluidos Computacional (CFD, do Inglês *Computational Fluid Dynamics*), ministrado pela [Prof. Lorena Barba](http://lorenabarba.com) desde a primavera de 2009 na Universidade de Boston. O curso assume que o leitor tenha conhecimentos básicos sobre programação (em qualquer linguagem) e alguma familiaridade com equações diferenciais e mecânica dos fluidos. Os \"passos\" foram inspirados pelas ideias do Dr. Rio Yokota, que era um pós-doc no laboratório da Prof. Barba. As lições foram refinadas pela Professora e seus estudantes ao longo de vários semestres. O curso é ensinado inteiramente em Python, e os alunos que não conhecem Python tem a oportunidade de aprender conforme progredimos pelas lições. Adaptado e traduzido para português por [Felipe N. Schuch](https://fschuch.github.io/).\n",
    "\n",
    "Esse  [Jupyter notebook](https://jupyter-notebook.readthedocs.io/en/stable/) vai lhe guiar através do primeiro passo para programar sua própria ferramenta de resolução de Navier-Stokes em Python. Colocamos a mão na massa agora mesmo. Não se preocupe se inicialmente não entender tudo que está acontecendo, cobriremos cada detalhe à medida que avançamos, além disso, material complementar para o aprendizado está disponível em vídeo (em inglês) em [Prof. Barba's lectures on YouTube](http://www.youtube.com/playlist?list=PL30F4C5ABCE62CB61).\n",
    "\n",
    "Para obter melhores resultados, uma vez concluido esse notebook, escreva seu próprio código para o Passo 1, seja em um script Python ou em um novo Jupyter notebook."
   ]
  },
  {
   "cell_type": "markdown",
   "metadata": {
    "colab_type": "text",
    "id": "IOrSNVhtwjlN"
   },
   "source": [
    "Passo 1: Convecção Linear Unidimensional\n",
    "-----\n",
    "***"
   ]
  },
  {
   "cell_type": "markdown",
   "metadata": {
    "colab_type": "text",
    "id": "AH_3j7G9wjlP"
   },
   "source": [
    "O equação de Convecção Linear 1D é a versão mais simplificada, o modelo mais básico que se pode empregar para aprender algo sobre CFD. É supreendente o quanto essa pequena equação é capaz de nos ensinar! Aqui está ela:\n",
    "\n",
    "$$\\frac{\\partial u(x,t)}{\\partial t} + c \\frac{\\partial u(x,t)}{\\partial x} = 0$$\n",
    "\n",
    "Para uma dada condição inicial (denominada como *onda*), a equação descreve a propagação dessa *onda* inicial com uma velocidade $c$, sem mudar seu formato. Considerando a condição inicial como $u(x,0)=u_0(x)$, então a solução exata da equação é dada por $u(x,t)=u_0(x-ct)$.\n",
    "\n",
    "Usamos o métodos das diferenças finitas para discretizar a equação no tempo e no espaço, usando um esquema de diferença para frente para a derivada temporal e um esquema de diferença para trás para a derivada espacial. Assim, se discretiza a coordenada espacial $x$ em pontos com índice $i$, sendo $0 \\le i \\le N$, e discretizamos o tempo em $n$ passos discretos de tamanho $\\Delta t$.\n",
    "\n",
    "À partir da definição de uma derivada (e simplesmente removendo o limite), sabemos que:\n",
    "\n",
    "$$\\frac{\\partial u}{\\partial x}\\approx \\frac{u(x+\\Delta x)-u(x)}{\\Delta x}$$\n",
    "\n",
    "Nossa equação discreta é, então, dada por:\n",
    "\n",
    "$$\\frac{u_i^{n+1}-u_i^n}{\\Delta t} + c \\frac{u_i^n - u_{i-1}^n}{\\Delta x} = 0 $$\n",
    "\n",
    "Onde $n$ e $n+1$ são dois passos consecutivos no tempo, enquanto $i-1$ e $i$ são dois pontos vizinhos na discretização da coordenada $x$. Se a condição inicial é conhecida, então a única incógnita na discretização é $u_i^{n+1}$. Podemos isolar nossa incógnita para obter uma equação que nos permita avançar no tempo, que é escrita como:\n",
    "\n",
    "$$u_i^{n+1} = u_i^n - c \\frac{\\Delta t}{\\Delta x}(u_i^n-u_{i-1}^n)$$\n",
    "\n",
    "Agora, é hora de implementá-la em Python. \n",
    "\n",
    "Vamos começar importando algumas bibliotecas que nos serão úteis:\n",
    "\n",
    "* `numpy` é uma biblioteca que fornece uma série de ferramentas para manipulação matricial, similar ao MATLAB;\n",
    "* `matplotlib` é uma biblioteca para produção gráfica 2D, usaremos para mostrar os resultados;\n",
    "* `time` e `sys` proporcionam utilidades básicas de tempo e sistema, que usaremos para reduzir a velocidade da visualização de animações."
   ]
  },
  {
   "cell_type": "code",
   "execution_count": 1,
   "metadata": {
    "colab": {},
    "colab_type": "code",
    "id": "gNvYT1mowjlQ"
   },
   "outputs": [],
   "source": [
    "#Lembrete: comentários em Python são indicados pelo jogo da velha\n",
    "import numpy                       #Aqui carregamos numpy\n",
    "from matplotlib import pyplot      #Aqui carregamos matplotlib\n",
    "import time, sys                   #E carregamos algumas utilidades"
   ]
  },
  {
   "cell_type": "code",
   "execution_count": 2,
   "metadata": {
    "colab": {},
    "colab_type": "code",
    "id": "36DJSVzLwjlU"
   },
   "outputs": [],
   "source": [
    "#isso faz os gráficos matplotlib aparecerem no notebook (em vez de em uma nova janela)\n",
    "%matplotlib inline                  "
   ]
  },
  {
   "cell_type": "markdown",
   "metadata": {
    "colab_type": "text",
    "id": "dxZUqh3AwjlY"
   },
   "source": [
    "Agora vamos definir alguns parâmetros. Queremos criar um domínio espacial com pontos igualmente espaçados e duas unidades de comprimento, isso é, $x_i\\in(0,2)$. Para tanto, a função [numpy.linspace](https://docs.scipy.org/doc/numpy/reference/generated/numpy.linspace.html) é exatamente o que precisamos."
   ]
  },
  {
   "cell_type": "code",
   "execution_count": 3,
   "metadata": {},
   "outputs": [],
   "source": [
    "#Tente mudar esse número de 41 para 81\n",
    "#então execute tudo (Run All).\n",
    "#O que acontece?\n",
    "x = numpy.linspace(0., 2., num = 41)\n",
    "\n",
    "nt = 25    #Número de passos de tempo que queremos calcular\n",
    "dt = .025  #Tamanho de cada passo de tempo\n",
    "c = 1      #Velocidade de propagação da onda"
   ]
  },
  {
   "cell_type": "markdown",
   "metadata": {},
   "source": [
    "É sempre possível acessar a documentação de uma dada função se você quiser saber mais detalhes. Tente executar uma célular com o comando:\n",
    "```python\n",
    "help(numpy.linspace)\n",
    "```\n",
    "\n",
    "À partir de `x`, extraímos o parâmetro `nx` como o número de pontos na malha e `dx` será o espaçamento entre eles. "
   ]
  },
  {
   "cell_type": "code",
   "execution_count": 4,
   "metadata": {},
   "outputs": [],
   "source": [
    "nx = x.size\n",
    "dx = x[1] - x[0]"
   ]
  },
  {
   "cell_type": "markdown",
   "metadata": {
    "colab_type": "text",
    "id": "zZy93JGrwjlc"
   },
   "source": [
    "Também precisamos definir a condição inicial (CI). Digamos que a velocidade inicial $u_0$ é dada por $u_0 = 2$ no intervalo $0,5 \\leq x \\leq 1$, senão $u_0 = 1$ (isso é, uma função chapéu).\n",
    "\n",
    "Aqui, utilizamos a função [numpy.ones_like](https://docs.scipy.org/doc/numpy/reference/generated/numpy.ones_like.html), onde `u` terá o mesmo formato de `x`, porém o valor em todos os elementos será 1."
   ]
  },
  {
   "cell_type": "code",
   "execution_count": 5,
   "metadata": {
    "colab": {
     "base_uri": "https://localhost:8080/",
     "height": 73
    },
    "colab_type": "code",
    "id": "yeqhzgPSwjld",
    "outputId": "20e9c74e-a725-467e-bf78-50b2bbaa2a6d"
   },
   "outputs": [
    {
     "name": "stdout",
     "output_type": "stream",
     "text": [
      "[1. 1. 1. 1. 1. 1. 1. 1. 1. 1. 2. 2. 2. 2. 2. 2. 2. 2. 2. 2. 2. 1. 1. 1.\n",
      " 1. 1. 1. 1. 1. 1. 1. 1. 1. 1. 1. 1. 1. 1. 1. 1. 1.]\n"
     ]
    }
   ],
   "source": [
    "u = numpy.ones_like(x)   #Função ones_like do numpy\n",
    "u[(0.5<=x) & (x<=1)] = 2 #Define u = 2 entre 0,5 e 1,\n",
    "                         #de acordo com nossa CI\n",
    "\n",
    "print(u)                 #Verificamos o resultado na tela"
   ]
  },
  {
   "cell_type": "markdown",
   "metadata": {},
   "source": [
    "**Nota:** perceba que nesse contexto, tanto `numpy.ones_like(x)` quanto `numpy.ones(nx)` produzem o mesmo resultado. Experimente!"
   ]
  },
  {
   "cell_type": "markdown",
   "metadata": {
    "colab_type": "text",
    "id": "tdZFmyEfwjli"
   },
   "source": [
    "Vamos visualizar essa condição inicial representando-a graficamente com [Matplotlib](https://matplotlib.org/). Nós já importamos o pacote gráfico `pyplot` da biblioteca `matplotlib`, agora vamos usar a função chamada `plot`, ao invocar `pyplot.plot`. Para saber mais sobre toda a capacidade de Matplotlib, explore a [Galeria de exemplos](http://matplotlib.org/gallery.html).\n",
    "\n",
    "Aqui, nós usamos a sintaxe simples para gráficos bidimensionais `plot(x,y)`:"
   ]
  },
  {
   "cell_type": "code",
   "execution_count": 6,
   "metadata": {
    "colab": {
     "base_uri": "https://localhost:8080/",
     "height": 265
    },
    "colab_type": "code",
    "id": "DHFFLXqpwjlj",
    "outputId": "d31f98fb-92ad-4953-9d80-03dcc064d804"
   },
   "outputs": [
    {
     "data": {
      "image/png": "[encoded data removed]",
      "text/plain": [
       "<Figure size 432x288 with 1 Axes>"
      ]
     },
     "metadata": {
      "needs_background": "light"
     },
     "output_type": "display_data"
    }
   ],
   "source": [
    "pyplot.plot(x, u);"
   ]
  },
  {
   "cell_type": "markdown",
   "metadata": {
    "colab_type": "text",
    "id": "T3TqOpe4wjlo"
   },
   "source": [
    "Por que a função chapéu (*hat function*) não apresenta linhas perfeitamente retas? Pense sobre isso."
   ]
  },
  {
   "cell_type": "markdown",
   "metadata": {
    "colab_type": "text",
    "id": "nERFDP0Pwjlq"
   },
   "source": [
    "Agora é o momento de implementar a equação de convecção discretizada pelos esquemas de diferenças finitas.\n",
    "\n",
    "Para cada elemento do nosso arranjo `u`, nós precisamos realizar a operação $u_i^{n+1} = u_i^n - c \\frac{\\Delta t}{\\Delta x}(u_i^n-u_{i-1}^n)$.\n",
    "\n",
    "Vamos armazenar o resultado em um novo (temporário) arranjo `un`, que será a solução $u$ para o passo de tempo seguinte. Repetiremos essa operação por tantos passos de tempo quando especificamos anteriormente, e então poderemos ver o quão longe a onda se moveu por convecção.\n",
    "\n",
    "Começamos inicializando o arranjo auxiliar `un` para mantermos os valores que calculamos para o passo de tempo $n+1$, novamente utilizando a função NumPy `ones_like()`.  \n",
    "\n",
    "Finalmente, podemos pensar que temos duas operações iterativas: uma no tempo e uma no espaço (veremos uma abordagem diferente mais tarde). Então, começamos pelo aninhamento um laço dentro de outro. Note que usamos a elegante função `range()`. Quando escrevemos `for i in range(1,nx)`, nós vamos interar através do arranjo `u`, mas vamos pular o primeiro elemento (0 elemento zero). *Por quê?*"
   ]
  },
  {
   "cell_type": "code",
   "execution_count": 7,
   "metadata": {
    "colab": {},
    "colab_type": "code",
    "id": "O98cA29Cwjlr"
   },
   "outputs": [],
   "source": [
    "un = numpy.ones_like(u) #Inicializar o arranjo temporário\n",
    "\n",
    "for n in range(nt): #Laço para os valores de 0 a nt-1, então será executado nt vezes \n",
    "    un = u.copy()   ##Cópia dos valores de u para un\n",
    "    for i in range(1, nx): ##Você pode tentar comentar essa linha...\n",
    "    #for i in range(nx): ## ... e descomentar essa linha, para ver o que acontece!\n",
    "        u[i] = un[i] - c * dt / dx * (un[i] - un[i-1])"
   ]
  },
  {
   "cell_type": "markdown",
   "metadata": {
    "colab_type": "text",
    "id": "7JcJEwP4wjlw"
   },
   "source": [
    "**Nota:** Vamos aprender mais tarde que o código escrito acima é bastante ineficiente, e que existem melhores maneiras para escreve-lo ao estilo Python. Porém, vamos continuar.\n",
    "\n",
    "Agora, vamos graficar nosso arranjo `u` após o avanço no tempo."
   ]
  },
  {
   "cell_type": "code",
   "execution_count": 8,
   "metadata": {
    "colab": {
     "base_uri": "https://localhost:8080/",
     "height": 265
    },
    "colab_type": "code",
    "id": "L58SpvN4wjlx",
    "outputId": "5bddaa8e-10b4-4a58-8e26-cb10880c4066"
   },
   "outputs": [
    {
     "data": {
      "image/png": "[encoded data removed]",
      "text/plain": [
       "<Figure size 432x288 with 1 Axes>"
      ]
     },
     "metadata": {
      "needs_background": "light"
     },
     "output_type": "display_data"
    }
   ],
   "source": [
    "pyplot.plot(x, u);"
   ]
  },
  {
   "cell_type": "markdown",
   "metadata": {
    "colab_type": "text",
    "id": "rzREAjBBwjl1"
   },
   "source": [
    "Certo! Então nossa função chapéu definitivamente se moveu para a direita, entretanto, ela não se parece mais com um chapéu. **O que aconteceu?**"
   ]
  },
  {
   "cell_type": "markdown",
   "metadata": {
    "colab_type": "text",
    "id": "5ikOedw5wjl2"
   },
   "source": [
    "Material Complementar\n",
    "-----\n",
    "***"
   ]
  },
  {
   "cell_type": "markdown",
   "metadata": {
    "colab_type": "text",
    "id": "dhtCAHSbwjl4"
   },
   "source": [
    "Para uma explicação mais detalhada sobre o método de diferenças finitas, incluindo assuntos como erro de truncamento, ordem de convergência e outros detalhes, assista (EN) **Video Lessons 2 and 3** por Prof. Barba no YouTube."
   ]
  },
  {
   "cell_type": "code",
   "execution_count": 9,
   "metadata": {
    "colab": {},
    "colab_type": "code",
    "id": "N69MLEYcwjl5",
    "outputId": "f483320a-f0b7-496d-dda9-047f046ae0cf"
   },
   "outputs": [
    {
     "data": {
      "image/jpeg": "[encoded data removed]",
      "text/html": [
       "\n",
       "        <iframe\n",
       "            width=\"400\"\n",
       "            height=\"300\"\n",
       "            src=\"https://www.youtube.com/embed/iz22_37mMkk\"\n",
       "            frameborder=\"0\"\n",
       "            allowfullscreen\n",
       "        ></iframe>\n",
       "        "
      ],
      "text/plain": [
       "<IPython.lib.display.YouTubeVideo at 0x1aa8272d518>"
      ]
     },
     "execution_count": 9,
     "metadata": {},
     "output_type": "execute_result"
    }
   ],
   "source": [
    "from IPython.display import YouTubeVideo\n",
    "YouTubeVideo('iz22_37mMkk')"
   ]
  },
  {
   "cell_type": "code",
   "execution_count": 10,
   "metadata": {
    "colab": {},
    "colab_type": "code",
    "id": "0MXO-Cigwjl8",
    "outputId": "1a922741-1023-4ebb-fa3b-39d57bbdd9ef"
   },
   "outputs": [
    {
     "data": {
      "image/jpeg": "[encoded data removed]",
      "text/html": [
       "\n",
       "        <iframe\n",
       "            width=\"400\"\n",
       "            height=\"300\"\n",
       "            src=\"https://www.youtube.com/embed/xq9YTcv-fQg\"\n",
       "            frameborder=\"0\"\n",
       "            allowfullscreen\n",
       "        ></iframe>\n",
       "        "
      ],
      "text/plain": [
       "<IPython.lib.display.YouTubeVideo at 0x1aae869c780>"
      ]
     },
     "execution_count": 10,
     "metadata": {},
     "output_type": "execute_result"
    }
   ],
   "source": [
    "YouTubeVideo('xq9YTcv-fQg')"
   ]
  },
  {
   "cell_type": "markdown",
   "metadata": {
    "colab_type": "text",
    "id": "UxyRqf2XwjmB"
   },
   "source": [
    "Para uma explicação passo à passo sobre a discretização da equaçaõ de convecção linear com diferenças finitas (e também os passos seguintes, até o Passo 4), assista **Video Lesson 4** por Prof. Barba no YouTube."
   ]
  },
  {
   "cell_type": "code",
   "execution_count": 11,
   "metadata": {
    "colab": {},
    "colab_type": "code",
    "id": "KKZLRlbuwjmC",
    "outputId": "b409038a-5d84-40bf-f249-d0ea01a586c4"
   },
   "outputs": [
    {
     "data": {
      "image/jpeg": "[encoded data removed]",
      "text/html": [
       "\n",
       "        <iframe\n",
       "            width=\"400\"\n",
       "            height=\"300\"\n",
       "            src=\"https://www.youtube.com/embed/y2WaK7_iMRI\"\n",
       "            frameborder=\"0\"\n",
       "            allowfullscreen\n",
       "        ></iframe>\n",
       "        "
      ],
      "text/plain": [
       "<IPython.lib.display.YouTubeVideo at 0x1aa827330f0>"
      ]
     },
     "execution_count": 11,
     "metadata": {},
     "output_type": "execute_result"
    }
   ],
   "source": [
    "YouTubeVideo('y2WaK7_iMRI')"
   ]
  },
  {
   "cell_type": "markdown",
   "metadata": {
    "colab_type": "text",
    "id": "s1bZDfggwjmF"
   },
   "source": [
    "## Por último, mas não menos importante"
   ]
  },
  {
   "cell_type": "markdown",
   "metadata": {
    "colab_type": "text",
    "id": "2NDwlMA2wjmG"
   },
   "source": [
    "**Lembre-se** de reescrever o Passo 1 como um novo script Python, ou seu próprio Jupyter notebook e então experimente mudar os parâmetros de discretização. Uma vez feito isso, você pode prosseguir para o [Passo 2](./02_Passo_2.ipynb).\n",
    "\n",
    "***"
   ]
  },
  {
   "cell_type": "code",
   "execution_count": 12,
   "metadata": {
    "colab": {},
    "colab_type": "code",
    "id": "Nt8mTSbhwjmH",
    "outputId": "c22d1cab-000a-451c-aabc-d81b9099e3a5"
   },
   "outputs": [
    {
     "data": {
      "text/html": [
       "<link href='http://fonts.googleapis.com/css?family=Fenix' rel='stylesheet' type='text/css'>\n",
       "<link href='http://fonts.googleapis.com/css?family=Alegreya+Sans:100,300,400,500,700,800,900,100italic,300italic,400italic,500italic,700italic,800italic,900italic' rel='stylesheet' type='text/css'>\n",
       "<link href='http://fonts.googleapis.com/css?family=Source+Code+Pro:300,400' rel='stylesheet' type='text/css'>\n",
       "<style>\n",
       "    @font-face {\n",
       "        font-family: \"Computer Modern\";\n",
       "        src: url('http://mirrors.ctan.org/fonts/cm-unicode/fonts/otf/cmunss.otf');\n",
       "    }\n",
       "    div.cell{\n",
       "        width:800px;\n",
       "        margin-left:16% !important;\n",
       "        margin-right:auto;\n",
       "    }\n",
       "    h1 {\n",
       "        font-family: 'Alegreya Sans', sans-serif;\n",
       "    }\n",
       "    h2 {\n",
       "        font-family: 'Fenix', serif;\n",
       "    }\n",
       "    h3{\n",
       "\t\tfont-family: 'Fenix', serif;\n",
       "        margin-top:12px;\n",
       "        margin-bottom: 3px;\n",
       "       }\n",
       "\th4{\n",
       "\t\tfont-family: 'Fenix', serif;\n",
       "       }\n",
       "    h5 {\n",
       "        font-family: 'Alegreya Sans', sans-serif;\n",
       "    }\t   \n",
       "    div.text_cell_render{\n",
       "        font-family: 'Alegreya Sans',Computer Modern, \"Helvetica Neue\", Arial, Helvetica, Geneva, sans-serif;\n",
       "        line-height: 135%;\n",
       "        font-size: 120%;\n",
       "        width:600px;\n",
       "        margin-left:auto;\n",
       "        margin-right:auto;\n",
       "    }\n",
       "    .CodeMirror{\n",
       "            font-family: \"Source Code Pro\";\n",
       "\t\t\tfont-size: 90%;\n",
       "    }\n",
       "/*    .prompt{\n",
       "        display: None;\n",
       "    }*/\n",
       "    .text_cell_render h1 {\n",
       "        font-weight: 200;\n",
       "        font-size: 50pt;\n",
       "\t\tline-height: 100%;\n",
       "        color:#CD2305;\n",
       "        margin-bottom: 0.5em;\n",
       "        margin-top: 0.5em;\n",
       "        display: block;\n",
       "    }\t\n",
       "    .text_cell_render h5 {\n",
       "        font-weight: 300;\n",
       "        font-size: 16pt;\n",
       "        color: #CD2305;\n",
       "        font-style: italic;\n",
       "        margin-bottom: .5em;\n",
       "        margin-top: 0.5em;\n",
       "        display: block;\n",
       "    }\n",
       "    \n",
       "    .warning{\n",
       "        color: rgb( 240, 20, 20 )\n",
       "        }  \n",
       "</style>\n",
       "<script>\n",
       "    MathJax.Hub.Config({\n",
       "                        TeX: {\n",
       "                           extensions: [\"AMSmath.js\"]\n",
       "                           },\n",
       "                tex2jax: {\n",
       "                    inlineMath: [ ['$','$'], [\"\\\\(\",\"\\\\)\"] ],\n",
       "                    displayMath: [ ['$$','$$'], [\"\\\\[\",\"\\\\]\"] ]\n",
       "                },\n",
       "                displayAlign: 'center', // Change this to 'center' to center equations.\n",
       "                \"HTML-CSS\": {\n",
       "                    styles: {'.MathJax_Display': {\"margin\": 4}}\n",
       "                }\n",
       "        });\n",
       "</script>\n"
      ],
      "text/plain": [
       "<IPython.core.display.HTML object>"
      ]
     },
     "execution_count": 12,
     "metadata": {},
     "output_type": "execute_result"
    }
   ],
   "source": [
    "from IPython.core.display import HTML\n",
    "def css_styling():\n",
    "    styles = open(\"../styles/custom.css\", \"r\").read()\n",
    "    return HTML(styles)\n",
    "css_styling()"
   ]
  },
  {
   "cell_type": "markdown",
   "metadata": {
    "colab_type": "text",
    "id": "b08N-tExwjmL"
   },
   "source": [
    "> A célula acima executa o estilo para esse notebook. Nós modificamos o estilo encontrado no GitHub de [CamDavidsonPilon](https://github.com/CamDavidsonPilon), [@Cmrn_DP](https://twitter.com/cmrn_dp)."
   ]
  }
 ],
 "metadata": {
  "colab": {
   "name": "01_Step_1.ipynb",
   "provenance": []
  },
  "kernelspec": {
   "display_name": "Python 3",
   "language": "python",
   "name": "python3"
  },
  "language_info": {
   "codemirror_mode": {
    "name": "ipython",
    "version": 3
   },
   "file_extension": ".py",
   "mimetype": "text/x-python",
   "name": "python",
   "nbconvert_exporter": "python",
   "pygments_lexer": "ipython3",
   "version": "3.6.10"
  }
 },
 "nbformat": 4,
 "nbformat_minor": 4
}
